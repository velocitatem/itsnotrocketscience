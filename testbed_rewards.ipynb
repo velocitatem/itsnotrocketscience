{
 "cells": [
  {
   "cell_type": "markdown",
   "metadata": {},
   "source": [
    "# Rocket Landing - Performance Analysis"
   ]
  },
  {
   "cell_type": "code",
   "execution_count": null,
   "metadata": {},
   "outputs": [],
   "source": [
    "import numpy as np\n",
    "import torch\n",
    "from rocket import Rocket\n",
    "from policy import ActorCritic\n",
    "import matplotlib.pyplot as plt\n",
    "import utils\n",
    "import os\n",
    "import glob"
   ]
  },
  {
   "cell_type": "code",
   "execution_count": null,
   "metadata": {
    "colab": {
     "base_uri": "https://localhost:8080/"
    },
    "id": "LIXpkb0ZLNEe",
    "outputId": "3b45a120-f539-4191-fd60-9e843160cdd8"
   },
   "outputs": [],
   "source": [
    "task = 'landing' # 'hover' or 'landing'\n",
    "task = 'hover'   # 'hover' or 'landing'\n",
    "\n",
    "max_steps = 800\n",
    "device = torch.device(\"cuda:0\" if torch.cuda.is_available() else \"cpu\")\n",
    "env = Rocket(task=task, max_steps=max_steps)\n",
    "ckpt_folder = os.path.join('./', task + '_ckpt')\n",
    "net = ActorCritic(input_dim=env.state_dims, output_dim=env.action_dims).to(device)\n",
    "\n",
    "if len(glob.glob(os.path.join(ckpt_folder, '*.pt'))) > 0:\n",
    "    # load the last ckpt\n",
    "    checkpoint = torch.load(glob.glob(os.path.join(ckpt_folder, '*.pt'))[-1])\n",
    "    net.load_state_dict(checkpoint['model_G_state_dict'])\n",
    "    last_episode_id = checkpoint['episode_id']\n",
    "    REWARDS = checkpoint['REWARDS']"
   ]
  },
  {
   "cell_type": "code",
   "execution_count": null,
   "metadata": {},
   "outputs": [],
   "source": [
    "plt.figure(figsize=(16,10))\n",
    "plt.plot(REWARDS), plt.plot(utils.moving_avg(REWARDS, N=50))\n",
    "plt.legend(['episode reward', 'moving avg'], loc=2)\n",
    "plt.xlabel('m episode')\n",
    "plt.ylabel('reward')\n",
    "# plt.savefig(os.path.join(ckpt_folder, 'rewards_' + str(episode_id).zfill(8) + '.jpg'))\n",
    "plt.show()"
   ]
  },
  {
   "cell_type": "code",
   "execution_count": null,
   "metadata": {
    "scrolled": true
   },
   "outputs": [],
   "source": [
    "import matplotlib.pyplot as plt\n",
    "from scipy.signal import savgol_filter\n",
    "episode = last_episode_id\n",
    "window0 = int(episode/120)\n",
    "window1 = int(episode/30)\n",
    "yhat0 = savgol_filter(REWARDS, window0, 3) # window size window0, polynomial order 3\n",
    "yhat1 = savgol_filter(REWARDS, window1, 1)\n",
    "Aw = np.lib.stride_tricks.sliding_window_view(REWARDS, window1)\n",
    "Aμ = np.mean(Aw, axis=-1)\n",
    "Aσ = np.std(Aw, axis=-1)\n",
    "print(episode,len(REWARDS),window0,window1,yhat0.shape,yhat1.shape,Aw.shape,Aμ.shape,Aσ.shape)\n",
    "\n",
    "plt.figure(figsize=(16,10))\n",
    "plt.plot(yhat0[window1//2:-window1//2])\n",
    "# plt.plot(yhat1[window1//2:-window1//2])\n",
    "plt.plot(Aμ)\n",
    "\n",
    "plt.fill_between(range(Aμ.shape[0]),Aμ-Aσ,Aμ+Aσ,alpha=.1)\n",
    "plt.title(f'AVERAGED REWARDS. {task.capitalize()} Episode: {episode}')\n",
    "plt.show()"
   ]
  },
  {
   "cell_type": "markdown",
   "metadata": {},
   "source": [
    "# Visualize Actor-Critic Network\n",
    "https://stackoverflow.com/questions/52468956/how-do-i-visualize-a-net-in-pytorch"
   ]
  },
  {
   "cell_type": "code",
   "execution_count": null,
   "metadata": {},
   "outputs": [],
   "source": [
    "import torchvision\n",
    "\"\"\"\n",
    "torchview 0.2.6\n",
    "pip install torchview\n",
    "Latest version: Feb 14, 2023\n",
    "Visualization of Pytorch Models\n",
    "Torchview provides visualization of pytorch models in the form of visual graphs. \n",
    "Visualization includes tensors, modules, torch.functions and info such as input/output shapes.\n",
    "\"\"\"\n",
    "from torchview import draw_graph\n",
    "\n",
    "model_graph = draw_graph(net, input_size=(1,env.state_dims), expand_nested=True)\n",
    "model_graph.visual_graph.save(\"actor_critic.gv\")\n",
    "model_graph.visual_graph.render(\"actor_critic\", format=\"png\")\n",
    "model_graph.visual_graph"
   ]
  },
  {
   "cell_type": "code",
   "execution_count": null,
   "metadata": {},
   "outputs": [],
   "source": []
  }
 ],
 "metadata": {
  "accelerator": "GPU",
  "colab": {
   "provenance": []
  },
  "hide_input": false,
  "kernelspec": {
   "display_name": "Python 3 (ipykernel)",
   "language": "python",
   "name": "python3"
  },
  "language_info": {
   "codemirror_mode": {
    "name": "ipython",
    "version": 3
   },
   "file_extension": ".py",
   "mimetype": "text/x-python",
   "name": "python",
   "nbconvert_exporter": "python",
   "pygments_lexer": "ipython3",
   "version": "3.10.11"
  }
 },
 "nbformat": 4,
 "nbformat_minor": 1
}
